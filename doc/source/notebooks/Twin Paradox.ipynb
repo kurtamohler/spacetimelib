{
 "cells": [
  {
   "cell_type": "markdown",
   "id": "ff8071ef",
   "metadata": {},
   "source": [
    "# Start Here - Twin Paradox tutorial\n",
    "\n",
    "To show what SpacetimeLib can do, let's look at a well-known thought experiment called the [twin paradox](https://en.wikipedia.org/wiki/Twin_paradox).\n",
    "\n",
    "Alice and Bob are twins living on Earth. Alice gets on a spaceship, travels 10 light years away from Earth, and then comes right back. Her ship can travel extremely fast, but not as fast as light. From Bob's perspective, each leg of Alice's trip takes 10.1 years, and when Alice arrives back home, Bob has aged 20.2 years. How much time does the trip take from Alice's perspective?\n",
    "\n",
    "If you haven't learned about special relativity and [time dilation](https://en.wikipedia.org/wiki/Time_dilation) before, you may be tempted to say that the trip takes 20.2 years from Alice's perspective as well, because time passes at the same rate for everyone. However, special relativity teaches us that time actually passes at different rates for two people traveling at different velocities. Let's get more into it."
   ]
  },
  {
   "cell_type": "code",
   "execution_count": 1,
   "id": "a2cba9e4",
   "metadata": {},
   "outputs": [],
   "source": [
    "import spacetime as st"
   ]
  },
  {
   "cell_type": "markdown",
   "id": "a8d3dfa3",
   "metadata": {},
   "source": [
    "## Creating worldlines\n",
    "\n",
    "SpacetimeLib has an object called `spacetime.Worldline` to represent the [worldline](https://en.wikipedia.org/wiki/World_line) (a trajectory through spacetime) of a particle. We give it a list of events that a particle travels through, and SpacetimeLib will draw straight lines through those points to create a trajectory.\n",
    "\n",
    "An event is just a point in spacetime, so it contains a time and a spatial position.\n",
    "\n",
    "Alice and Bob both start at the same event `(t=0, x=0)`. Halfway through her trip, Alice is at the event `(t=10.1, x=10)`. Then at the end of her trip, both Alice and Bob are at the event `(t=20.2, x=0)`. Let's create the worldlines for Alice and Bob."
   ]
  },
  {
   "cell_type": "code",
   "execution_count": 2,
   "id": "005eac66",
   "metadata": {},
   "outputs": [],
   "source": [
    "alice_0 = st.Worldline([\n",
    "    # (t, x)\n",
    "    (0, 0),\n",
    "    (10.1, 10),\n",
    "    (20.2, 0)\n",
    "])\n",
    "\n",
    "bob_0 = st.Worldline([\n",
    "    (0, 0),\n",
    "    (20.2, 0)\n",
    "])"
   ]
  },
  {
   "cell_type": "markdown",
   "id": "3e165769",
   "metadata": {},
   "source": [
    "I put `_0` on these variable names to keep track of which reference frame we used for the coordinates of the worldlines. `_0` will refer to Bob's reference frame."
   ]
  },
  {
   "cell_type": "markdown",
   "id": "a21d70ff",
   "metadata": {},
   "source": [
    "## Proper time along worldlines\n",
    "\n",
    "Finding the answer to the question, \"How much time does the trip take from Alice's perspective?\", is easy. We can just call `Worldline.proper_time_delta()` to find the [proper time](https://en.wikipedia.org/wiki/Proper_time) along a worldline between two time coordinates.\n",
    "\n",
    "Let's first find Bob's proper time over the course of Alice's journey."
   ]
  },
  {
   "cell_type": "code",
   "execution_count": 3,
   "id": "7dbca709",
   "metadata": {},
   "outputs": [
    {
     "data": {
      "text/plain": [
       "20.2"
      ]
     },
     "execution_count": 3,
     "metadata": {},
     "output_type": "execute_result"
    }
   ],
   "source": [
    "bob_0.proper_time_delta(0, 20.2)"
   ]
  },
  {
   "cell_type": "markdown",
   "id": "9ac3b263",
   "metadata": {},
   "source": [
    "Exactly as we expected, the trip takes 20.2 years from Bob's perspective. What about Alice's proper time?"
   ]
  },
  {
   "cell_type": "code",
   "execution_count": 4,
   "id": "72667fa1",
   "metadata": {},
   "outputs": [
    {
     "data": {
      "text/plain": [
       "2.8354893757515587"
      ]
     },
     "execution_count": 4,
     "metadata": {},
     "output_type": "execute_result"
    }
   ],
   "source": [
    "alice_0.proper_time_delta(0, 20.2)"
   ]
  },
  {
   "cell_type": "markdown",
   "id": "ebe8d8fe",
   "metadata": {},
   "source": [
    "From Alice's perspective, her trip only takes 2.84 years. This means that when Alice arrives back home, she will have aged only 2.84 years, while Bob will have aged 20.2 years. Bob will be more than 17 years older than Alice, even though they both started out at the same age before Alice went on her trip.\n",
    "\n",
    "This time dilation effect becomes even greater if Alice has a faster spaceship. For instance, what if she could complete each 10 lightyear leg in 10.00001 years from Bob's perspective?"
   ]
  },
  {
   "cell_type": "code",
   "execution_count": 5,
   "id": "9d667156",
   "metadata": {},
   "outputs": [
    {
     "data": {
      "text/plain": [
       "0.02828427831811963"
      ]
     },
     "execution_count": 5,
     "metadata": {},
     "output_type": "execute_result"
    }
   ],
   "source": [
    "w = st.Worldline([\n",
    "    (0, 0),\n",
    "    (10.00001, 10),\n",
    "    (20.00002, 20)\n",
    "])\n",
    "years = w.proper_time_delta(0, 20.00002)\n",
    "years"
   ]
  },
  {
   "cell_type": "code",
   "execution_count": 6,
   "id": "9f3ab918",
   "metadata": {},
   "outputs": [
    {
     "data": {
      "text/plain": [
       "10.323761586113665"
      ]
     },
     "execution_count": 6,
     "metadata": {},
     "output_type": "execute_result"
    }
   ],
   "source": [
    "days = 365 * years\n",
    "days"
   ]
  },
  {
   "cell_type": "markdown",
   "id": "9cf6cd7d",
   "metadata": {},
   "source": [
    "Traveling at this faster speed, Alice only experiences 10.32 days, while Bob experiences slightly more than 20 years.\n",
    "\n",
    "Imagine this: Right before Alice starts her journey, Alice and Bob celebrate their 18th birthday, and they also welcome Bob's newborn daughter into the world. When Alice arrives back home after her trip, it is her niece's 20th birthday and Bob's 38th birthday, while Alice is only 18 years and 10 days old."
   ]
  },
  {
   "cell_type": "markdown",
   "id": "ea3386c1",
   "metadata": {},
   "source": [
    "## Plotting\n",
    "\n",
    "We can plot worldlines with [Matplotlib](https://matplotlib.org/). Obtaining plottable data from worldlines is easy, with `Worldline.plot()`. If you're not familiar with Matplotlib, don't worry about understanding how it works right now. There are [tutorials](https://matplotlib.org/stable/tutorials/introductory/quick_start.html) for it, which you can check out later."
   ]
  },
  {
   "cell_type": "code",
   "execution_count": 7,
   "id": "d95c1997",
   "metadata": {},
   "outputs": [],
   "source": [
    "import matplotlib.pyplot as plt\n",
    "\n",
    "def plot_worldline(ax, w, label):\n",
    "    out = ax.plot(*w.plot(), label=label, marker='.')\n",
    "    ax.set_xlabel('x-axis')\n",
    "    ax.set_ylabel('t-axis')\n",
    "    ax.legend(loc='center left', bbox_to_anchor=(1, 0.5))\n",
    "    return out"
   ]
  },
  {
   "cell_type": "code",
   "execution_count": 8,
   "id": "4a49020f",
   "metadata": {},
   "outputs": [
    {
     "data": {
      "text/plain": [
       "(0.0, 22.0)"
      ]
     },
     "execution_count": 8,
     "metadata": {},
     "output_type": "execute_result"
    },
    {
     "data": {
      "image/png": "[encoded data removed]",
      "text/plain": [
       "<Figure size 400x400 with 1 Axes>"
      ]
     },
     "metadata": {},
     "output_type": "display_data"
    }
   ],
   "source": [
    "fig, ax = plt.subplots(figsize=(4, 4))\n",
    "\n",
    "plot_worldline(ax, alice_0, \"Alice\")\n",
    "plot_worldline(ax, bob_0, \"Bob\")\n",
    "\n",
    "ax.set_xlim(-7, 15)\n",
    "ax.set_ylim(0, 22)"
   ]
  },
  {
   "cell_type": "markdown",
   "id": "ca6aed34",
   "metadata": {},
   "source": [
    "## Velocity along a worldline\n",
    "\n",
    "Another thing we can do with these worldlines is calculate the velocity of Alice and Bob at different points in time with `Worldline.eval_vel_s()`. What is Alice's velocity at, say time `t = 5`? This is during the first leg of her journey, so we'd expect the velocity to be positive, since she is moving in the positive x-direction. As for the magnitude, each leg is 10 lightyears long and takes 10.1 years, so we'd expect it to be `distance / time = 10 / 10.1`, which is:"
   ]
  },
  {
   "cell_type": "code",
   "execution_count": 9,
   "id": "9eb4c93f",
   "metadata": {},
   "outputs": [
    {
     "data": {
      "text/plain": [
       "0.9900990099009901"
      ]
     },
     "execution_count": 9,
     "metadata": {},
     "output_type": "execute_result"
    }
   ],
   "source": [
    "10 / 10.1"
   ]
  },
  {
   "cell_type": "markdown",
   "id": "aabec15f",
   "metadata": {},
   "source": [
    "Let's see what SpacetimeLib gives."
   ]
  },
  {
   "cell_type": "code",
   "execution_count": 10,
   "id": "cf93f65e",
   "metadata": {},
   "outputs": [
    {
     "data": {
      "text/plain": [
       "array([0.99009901])"
      ]
     },
     "execution_count": 10,
     "metadata": {},
     "output_type": "execute_result"
    }
   ],
   "source": [
    "first_leg_vel_0 = alice_0.eval_vel_s(5)\n",
    "first_leg_vel_0"
   ]
  },
  {
   "cell_type": "markdown",
   "id": "96bc1cf0",
   "metadata": {},
   "source": [
    "That's what we expected. What about the other leg? Let's check `t = 15`."
   ]
  },
  {
   "cell_type": "code",
   "execution_count": 11,
   "id": "853899a7",
   "metadata": {},
   "outputs": [
    {
     "data": {
      "text/plain": [
       "array([-0.99009901])"
      ]
     },
     "execution_count": 11,
     "metadata": {},
     "output_type": "execute_result"
    }
   ],
   "source": [
    "second_leg_vel_0 = alice_0.eval_vel_s(15)\n",
    "second_leg_vel_0"
   ]
  },
  {
   "cell_type": "markdown",
   "id": "b9143f6c",
   "metadata": {},
   "source": [
    "The magnitude is the same, but the direction is opposite, since this is during the second leg and Alice is traveling back to Earth."
   ]
  },
  {
   "cell_type": "markdown",
   "id": "3e3b2221",
   "metadata": {},
   "source": [
    "## Viewing from a different reference frame\n",
    "\n",
    "Currently, we've only been viewing Alice and Bob's worldlines from Bob's reference frame. But we can apply a [Lorentz transformation](https://en.wikipedia.org/wiki/Lorentz_transformation) to view the same worldlines from a different reference frame that is moving at a different velocity relative to the original reference frame. This process is called \"boosting\", and we can use `Worldline.boost()` to do it.\n",
    "\n",
    "Let's view the worldlines from Alice's perspective during the first leg of her trip."
   ]
  },
  {
   "cell_type": "code",
   "execution_count": 12,
   "id": "7a7bcb9d",
   "metadata": {},
   "outputs": [],
   "source": [
    "alice_1 = alice_0.boost(first_leg_vel_0)\n",
    "bob_1 = bob_0.boost(first_leg_vel_0)"
   ]
  },
  {
   "cell_type": "markdown",
   "id": "d4835e93",
   "metadata": {},
   "source": [
    "I named these variables with `_1` to refer to Alice's reference frame during the first leg of her journey. Let's plot these boosted worldlines."
   ]
  },
  {
   "cell_type": "code",
   "execution_count": 13,
   "id": "e6026b75",
   "metadata": {},
   "outputs": [
    {
     "data": {
      "text/plain": [
       "(0.0, 10.0)"
      ]
     },
     "execution_count": 13,
     "metadata": {},
     "output_type": "execute_result"
    },
    {
     "data": {
      "image/png": "[encoded data removed]",
      "text/plain": [
       "<Figure size 400x400 with 1 Axes>"
      ]
     },
     "metadata": {},
     "output_type": "display_data"
    }
   ],
   "source": [
    "fig, ax = plt.subplots(figsize=(4, 4))\n",
    "\n",
    "plot_worldline(ax, alice_1, \"Alice\")\n",
    "plot_worldline(ax, bob_1, \"Bob\")\n",
    "\n",
    "ax.set_xlim(-5, 5)\n",
    "ax.set_ylim(0, 10)"
   ]
  },
  {
   "cell_type": "code",
   "execution_count": null,
   "id": "534e8c47",
   "metadata": {},
   "outputs": [],
   "source": []
  }
 ],
 "metadata": {
  "kernelspec": {
   "display_name": "Python 3 (ipykernel)",
   "language": "python",
   "name": "python3"
  },
  "language_info": {
   "codemirror_mode": {
    "name": "ipython",
    "version": 3
   },
   "file_extension": ".py",
   "mimetype": "text/x-python",
   "name": "python",
   "nbconvert_exporter": "python",
   "pygments_lexer": "ipython3",
   "version": "3.11.4"
  }
 },
 "nbformat": 4,
 "nbformat_minor": 5
}
